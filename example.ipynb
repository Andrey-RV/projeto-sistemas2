{
 "cells": [
  {
   "cell_type": "markdown",
   "metadata": {},
   "source": [
    "## Imports e constantes"
   ]
  },
  {
   "cell_type": "code",
   "execution_count": 1,
   "metadata": {},
   "outputs": [],
   "source": [
    "%matplotlib qt\n",
    "\n",
    "import pandas as pd\n",
    "import numpy as np\n",
    "import matplotlib.pyplot as plt\n",
    "import project_utils\n",
    "import matplotlib.pyplot as plt\n",
    "from itertools import product\n",
    "from pprint import pprint\n",
    "from signals import Signals\n",
    "from ied import Ied\n",
    "\n",
    "# Constantes dos transformadores de instrumentação\n",
    "RTC = 300 / 5\n",
    "RTPC = 500e3 / 115\n",
    "\n",
    "# Constantes para o processo de downsampling\n",
    "FUNDAMENTAL_PERIOD = 1 / 60\n",
    "DESIRED_SAMPLE_RATE = 16\n",
    "\n",
    "# Constantes do filtro de anti-aliasing\n",
    "B = 1.599e3\n",
    "C = 1.279e6\n",
    "\n",
    "# Constantes dos relés de sobrecorrente\n",
    "PHASE_TIMED_ADJUST_CURRENT = 3\n",
    "PHASE_TIMED_GAMMA = {'a': 0.148, 'b': 0.069, 'c': 0.001, 'b\\'': 0.001, 'c\\'': 0.173, 'd\\'': 0.375}\n",
    "PHASE_INSTA_ADJUST_CURRENT = {'a': 6.05, 'b': 5.49, 'c': 5.03,  'b\\'': 11.68, 'c\\'': 14.71, 'd\\'': 19.87}\n",
    "NEUTRAL_TIMED_ADJUST_CURRENT = 0.5\n",
    "NEUTRAL_TIMED_GAMMA = {'a':0.494, 'b': 0.240, 'c': 0.001, 'b\\'': 0.001, 'c\\'': 0.312, 'd\\'': 0.658}\n",
    "NEUTRAL_INSTA_ADJUST_CURRENT = {'a': 1.21, 'b': 1.10, 'c': 1.01, 'b\\'': 2.34, 'c\\'': 2.94, 'd\\'': 3.97}\n",
    "\n",
    "# Constantes para o relé 32\n",
    "ALPHA = 90\n",
    "BETA = 30\n",
    "\n",
    "# Impedâncias da linha de transmissão\n",
    "R1 = 0.0246 * 250\n",
    "XL1 = 0.3219 * 250\n",
    "R0 = 0.376 * 250\n",
    "XL0 = 1.411 * 250\n",
    "Z1 = R1 + 1j * XL1\n",
    "Z0 = R0 + 1j * XL0\n",
    "\n",
    "# Constante para o relé 21 com comparador cosseno\n",
    "INCLINATION_ANGLE = np.angle(Z1)\n",
    "ZONES_IMPEDANCES = {\n",
    "    \"zone1\": np.abs(0.85 * Z1),\n",
    "    \"zone2\": np.abs(1.5 * Z1),\n",
    "    \"zone3\": np.abs(2 * Z1),\n",
    "}\n",
    "\n",
    "# Características moh para plot das zonas de proteção\n",
    "ZONE1C = [0.1247, 0.4654, 0.9636]\n",
    "ZONE2C = [0.2200, 0.8212, 1.7004]\n",
    "ZONE3C = [0.2934, 1.0950, 2.2672]"
   ]
  },
  {
   "cell_type": "markdown",
   "metadata": {},
   "source": [
    "## Carregamento dos dados"
   ]
  },
  {
   "cell_type": "code",
   "execution_count": 2,
   "metadata": {},
   "outputs": [],
   "source": [
    "data = {\n",
    "    f'bus{bus}_fault{fault}': pd.read_csv(f\"Registros/Registro{fault}/1Reg{bus}.dat\", delimiter='\\\\s+',\n",
    "                                              names=['step', 't', 'Va', 'Vb', 'Vc', 'Ia', 'Ib', 'Ic'])\n",
    "    for bus, fault in product((1, 2), (1, 2))\n",
    "}"
   ]
  },
  {
   "cell_type": "markdown",
   "metadata": {},
   "source": [
    "## Primerio estágio: Plot dos diferentes sinais"
   ]
  },
  {
   "cell_type": "code",
   "execution_count": null,
   "metadata": {},
   "outputs": [],
   "source": [
    "\n",
    "# Exemplo para os sinais na barra 2, falta 1 (bus1 = barra 2)\n",
    "sampling_period = data[f'bus{1}_fault{1}']['t'][1] - data[f'bus{1}_fault{1}']['t'][0]\n",
    "md = int(FUNDAMENTAL_PERIOD / (DESIRED_SAMPLE_RATE * sampling_period))\n",
    "\n",
    "signals = Signals(\n",
    "        va=data[f'bus{1}_fault{1}']['Va'],  # type: ignore\n",
    "        vb=data[f'bus{1}_fault{1}']['Vb'],  # type: ignore\n",
    "        vc=data[f'bus{1}_fault{1}']['Vc'],  # type: ignore\n",
    "        ia=data[f'bus{1}_fault{1}']['Ia'],  # type: ignore\n",
    "        ib=data[f'bus{1}_fault{1}']['Ib'],  # type: ignore\n",
    "        ic=data[f'bus{1}_fault{1}']['Ic'],  # type: ignore\n",
    "        t=data[f'bus{1}_fault{1}']['t'],  # type: ignore\n",
    "        sampling_period=sampling_period\n",
    "    )\n",
    "\n",
    "ied = Ied(signals=signals, b=B, c=C, R=R1, XL=XL1, samples_per_cycle=16, md=md)\n",
    "\n",
    "figure, ax = plt.subplots(2, 1, figsize=(10, 10))\n",
    "ax[0].set_title(f'Sinais coletados na barra 2 relativo à primeira falta')\n",
    "ax[0].plot(ied._signals['t'], ied._signals['ia'], label=r'$i_a[n]$')\n",
    "ax[0].plot(ied._aa_signals['t'], ied._aa_signals['ia'], label=r'$i_a[n]$ (AA)')\n",
    "ax[0].scatter(ied._resampled_aa_signals['t'], ied._resampled_aa_signals['ia'], label=r'$i_a[n]$ (AA resampled)', s=10)\n",
    "ax[0].scatter(ied._mimic_filtered_signals['t'], ied._mimic_filtered_signals['ia'], label=r'$i_a[n]$ (Mimic filtered)', s=10)\n",
    "ax[0].plot(ied._mimic_filtered_signals['t'], np.abs(ied.phasors['ia']), label=r'$|\\dot{I}_a|$')\n",
    "ax[0].legend(fontsize='small')\n",
    "\n",
    "ax[1].plot(ied._mimic_filtered_signals['t'], np.angle(ied.phasors['ia'], deg=True), label=r'$\\angle{\\dot{I}_a}$')  # type: ignore\n",
    "ax[1].legend(fontsize='small')\n",
    "\n",
    "plt.show(block=True)"
   ]
  },
  {
   "cell_type": "markdown",
   "metadata": {},
   "source": [
    "## Segundo estágio: Adição das funções de proteção de sobrecorrente"
   ]
  },
  {
   "cell_type": "markdown",
   "metadata": {},
   "source": [
    "### Coordenogramas"
   ]
  },
  {
   "cell_type": "code",
   "execution_count": 4,
   "metadata": {},
   "outputs": [
    {
     "name": "stderr",
     "output_type": "stream",
     "text": [
      "/home/andrey/Documentos/Code/sistemas_eletricos/project_utils.py:218: RuntimeWarning: divide by zero encountered in divide\n",
      "  curve_common_term = gamma * (k / ((currents / timed_adjust_current) ** a - 1) + c)\n"
     ]
    }
   ],
   "source": [
    "\n",
    "project_utils.plot_trip_curves(\n",
    "    relays=['a', 'b', 'c'],\n",
    "    timed_adjust_current=PHASE_TIMED_ADJUST_CURRENT,\n",
    "    insta_adjust_current=PHASE_INSTA_ADJUST_CURRENT,\n",
    "    gamma=PHASE_TIMED_GAMMA,\n",
    "    title='Curvas de atuação dos relés de sobrecorrente fase'\n",
    ")\n",
    "\n",
    "project_utils.plot_trip_curves(\n",
    "    relays=['a', 'b', 'c'],\n",
    "    timed_adjust_current=NEUTRAL_TIMED_ADJUST_CURRENT,\n",
    "    insta_adjust_current=NEUTRAL_INSTA_ADJUST_CURRENT,\n",
    "    gamma=NEUTRAL_TIMED_GAMMA,\n",
    "    title='Curvas de atuação dos relés de sobrecorrente neutro'\n",
    ")\n",
    "\n",
    "project_utils.plot_trip_curves(\n",
    "    relays=[\"b'\", \"c'\", \"d'\"],\n",
    "    timed_adjust_current=PHASE_TIMED_ADJUST_CURRENT,\n",
    "    insta_adjust_current=PHASE_INSTA_ADJUST_CURRENT,\n",
    "    gamma=PHASE_TIMED_GAMMA,\n",
    "    title='Curvas de atuação dos relés de sobrecorrente fase'\n",
    ")\n",
    "\n",
    "project_utils.plot_trip_curves(\n",
    "    relays=[\"b'\", \"c'\", \"d'\"],\n",
    "    timed_adjust_current=NEUTRAL_TIMED_ADJUST_CURRENT,\n",
    "    insta_adjust_current=NEUTRAL_INSTA_ADJUST_CURRENT,\n",
    "    gamma=NEUTRAL_TIMED_GAMMA,\n",
    "    title='Curvas de atuação dos relés de sobrecorrente neutro'\n",
    ")"
   ]
  },
  {
   "cell_type": "markdown",
   "metadata": {},
   "source": [
    "### Diagrama polar das regiões do relé 32"
   ]
  },
  {
   "cell_type": "code",
   "execution_count": 5,
   "metadata": {},
   "outputs": [],
   "source": [
    "project_utils.plot_32_polar_regions(\n",
    "    v_pol_angles=[-85.58, 154.42, 34.42],\n",
    "    i_op_angles=[-173.85, 66.15, -53.85],\n",
    "    beta=BETA,\n",
    ")"
   ]
  },
  {
   "cell_type": "markdown",
   "metadata": {},
   "source": [
    "### Adição das funções"
   ]
  },
  {
   "cell_type": "code",
   "execution_count": 6,
   "metadata": {},
   "outputs": [],
   "source": [
    "for fault, bus in product((1, 2), (1, 2)):\n",
    "    sampling_period = data[f'bus{bus}_fault{fault}']['t'][1] - data[f'bus{bus}_fault{fault}']['t'][0]\n",
    "    md = int(FUNDAMENTAL_PERIOD / (DESIRED_SAMPLE_RATE * sampling_period))\n",
    "\n",
    "    signals = Signals(\n",
    "        va=data[f'bus{bus}_fault{fault}']['Va'],  # type: ignore\n",
    "        vb=data[f'bus{bus}_fault{fault}']['Vb'],  # type: ignore\n",
    "        vc=data[f'bus{bus}_fault{fault}']['Vc'],  # type: ignore\n",
    "        ia=data[f'bus{bus}_fault{fault}']['Ia'],  # type: ignore\n",
    "        ib=data[f'bus{bus}_fault{fault}']['Ib'],  # type: ignore\n",
    "        ic=data[f'bus{bus}_fault{fault}']['Ic'],  # type: ignore\n",
    "        t=data[f'bus{bus}_fault{fault}']['t'],  # type: ignore\n",
    "        sampling_period=sampling_period\n",
    "    )\n",
    "\n",
    "    ieds = {\n",
    "        name: Ied(signals=signals, b=B, c=C, md=md, R=R1, XL=XL1, samples_per_cycle=16)\n",
    "        for name in ['b', 'c\\'']\n",
    "    }\n",
    "\n",
    "    for ied_name, ied in ieds.items():\n",
    "        ied.add_relay(\n",
    "            relay_type='51F',\n",
    "            gamma=PHASE_TIMED_GAMMA[ied_name],\n",
    "            adjust_current=PHASE_TIMED_ADJUST_CURRENT,\n",
    "            curve='IEEE_moderately_inverse',\n",
    "        )\n",
    "        ied.add_relay(\n",
    "            relay_type='51N',\n",
    "            gamma=NEUTRAL_TIMED_GAMMA[ied_name],\n",
    "            adjust_current=NEUTRAL_TIMED_ADJUST_CURRENT,\n",
    "            curve='IEEE_moderately_inverse',\n",
    "        )\n",
    "        ied.add_relay(\n",
    "            relay_type='50F',\n",
    "            adjust_current=PHASE_INSTA_ADJUST_CURRENT[ied_name],\n",
    "        )\n",
    "        ied.add_relay(\n",
    "            relay_type='50N',\n",
    "            adjust_current=NEUTRAL_INSTA_ADJUST_CURRENT[ied_name],\n",
    "        )\n",
    "        ied.add_relay(\n",
    "            relay_type=\"32F\",\n",
    "            alpha = ALPHA,\n",
    "            beta = BETA,\n",
    "        )\n",
    "        ied.add_relay(\n",
    "            relay_type=\"32N\",\n",
    "            alpha = ALPHA,\n",
    "            beta = BETA,\n",
    "        )\n",
    "        ied.add_relay(\n",
    "            relay_type=\"67F\",\n",
    "        )\n",
    "        ied.add_relay(\n",
    "            relay_type=\"67N\",\n",
    "        )\n",
    "\n",
    "    if bus == 1:\n",
    "        project_utils.plot_51f_50f_32f_trips(ieds['b'], f'Bus {bus + 1} Fault {fault}')\n",
    "        project_utils.plot_51n_50n_32n_67f_67n_trips(ieds['b'], f'Bus {bus + 1} Fault {fault}')\n",
    "    else:\n",
    "        project_utils.plot_51f_50f_32f_trips(ieds['c\\''], f'Bus {bus + 1} Fault {fault}')\n",
    "        project_utils.plot_51n_50n_32n_67f_67n_trips(ieds['c\\''], f'Bus {bus + 1} Fault {fault}')\n",
    "\n"
   ]
  },
  {
   "cell_type": "markdown",
   "metadata": {},
   "source": [
    "## Terceiro estágio: Função 21 (medida direta)"
   ]
  },
  {
   "cell_type": "code",
   "execution_count": 7,
   "metadata": {},
   "outputs": [],
   "source": [
    "with open(\"impedancias_medidas.txt\", \"w\") as f:\n",
    "    pass\n",
    "\n",
    "for bus, fault in product((1, 2), (1, 2)):\n",
    "    signals = Signals(\n",
    "        va=data[f'bus{bus}_fault{fault}']['Va'],  # type: ignore\n",
    "        vb=data[f'bus{bus}_fault{fault}']['Vb'],  # type: ignore\n",
    "        vc=data[f'bus{bus}_fault{fault}']['Vc'],  # type: ignore\n",
    "        ia=data[f'bus{bus}_fault{fault}']['Ia'],  # type: ignore\n",
    "        ib=data[f'bus{bus}_fault{fault}']['Ib'],  # type: ignore\n",
    "        ic=data[f'bus{bus}_fault{fault}']['Ic'],  # type: ignore\n",
    "        t=data[f'bus{bus}_fault{fault}']['t'],  # type: ignore\n",
    "        sampling_period=sampling_period\n",
    "    )\n",
    "\n",
    "    ieds = {\n",
    "        name: Ied(signals=signals, b=B, c=C, md=md, R=R1, XL=XL1, samples_per_cycle=16)\n",
    "        for name in ['b', 'c\\'']\n",
    "    }\n",
    "\n",
    "    for ied_name, ied in ieds.items():\n",
    "        ied.add_relay(\n",
    "            relay_type='21',\n",
    "            inclination_angle=INCLINATION_ANGLE,\n",
    "            line_positive_seq_impedance=Z1,\n",
    "            line_zero_seq_impedance=Z0,\n",
    "            abs_zones_impedances = ZONES_IMPEDANCES,\n",
    "        )\n",
    "\n",
    "    curr_ied = ieds['b'] if bus == 1 else ieds['c\\'']\n",
    "    for unit in ['at', 'bt', 'ct', 'ab', 'bc', 'ca']:\n",
    "        primary_reflected_impedance = curr_ied._trips['21']['measured_impedances'][unit][-1] * (RTPC / RTC)\n",
    "        \n",
    "        with open(\"impedancias_medidas.txt\", \"a\") as f:\n",
    "            f.write(f'*Falta {\"ACT\" if fault == 1 else \"BT\"} na barra {bus + 1}*\\n')\n",
    "            f.write(f'Impedância vista pela unidade {unit.upper()} na barra {bus + 1}: {np.round(curr_ied._trips[\"21\"][\"measured_impedances\"][unit][-1], 2)} ohms\\n')\n",
    "            f.write(f'Impedância calculada ao ponto da falta a partir da unidade {unit.upper()} na barra {bus + 1}: {np.round(primary_reflected_impedance, 2)} ohms\\n')\n",
    "            f.write(f'Distância da falta observada pela unidade {unit.upper()} na barra {bus + 1}: {np.round(np.abs(primary_reflected_impedance) / np.abs(0.0246 + 1j * 0.3219), 2)} km\\n')\n",
    "            f.write(f'Resultado válido ? {\"*Sim*\" if np.abs(primary_reflected_impedance) <= np.abs(2*Z1) else \"*Não*\"}\\n')\n",
    "            f.write('\\n')\n",
    "\n",
    "    with open(f\"bus{bus}_fault{fault}_21.txt\", 'w') as f:\n",
    "        f.write(f'*Falta {\"ACT\" if fault == 1 else \"BT\"} na barra {bus + 1}*\\n')\n",
    "        pprint(curr_ied._trips[\"21\"][\"trip_signals\"], stream=f)"
   ]
  }
 ],
 "metadata": {
  "kernelspec": {
   "display_name": ".venv",
   "language": "python",
   "name": "python3"
  },
  "language_info": {
   "codemirror_mode": {
    "name": "ipython",
    "version": 3
   },
   "file_extension": ".py",
   "mimetype": "text/x-python",
   "name": "python",
   "nbconvert_exporter": "python",
   "pygments_lexer": "ipython3",
   "version": "3.13.1"
  }
 },
 "nbformat": 4,
 "nbformat_minor": 2
}
